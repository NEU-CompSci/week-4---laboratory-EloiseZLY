{
  "nbformat": 4,
  "nbformat_minor": 0,
  "metadata": {
    "colab": {
      "provenance": []
    },
    "kernelspec": {
      "name": "python3",
      "display_name": "Python 3"
    },
    "language_info": {
      "name": "python"
    }
  },
  "cells": [
    {
      "cell_type": "code",
      "source": [
        "import pandas as pd\n",
        "\n",
        "!wget https://course.ccs.neu.edu/cs6220/lecture-labs/lecture-3/abalone.csv"
      ],
      "metadata": {
        "colab": {
          "base_uri": "https://localhost:8080/"
        },
        "id": "Qz1zVnbqwJhF",
        "outputId": "babe48a3-063f-4437-a958-e878a9a584ae"
      },
      "execution_count": 1,
      "outputs": [
        {
          "output_type": "stream",
          "name": "stdout",
          "text": [
            "--2023-02-09 02:38:26--  https://course.ccs.neu.edu/cs6220/lecture-labs/lecture-3/abalone.csv\n",
            "Resolving course.ccs.neu.edu (course.ccs.neu.edu)... 129.10.117.35\n",
            "Connecting to course.ccs.neu.edu (course.ccs.neu.edu)|129.10.117.35|:443... connected.\n",
            "HTTP request sent, awaiting response... 200 OK\n",
            "Length: 191962 (187K) [text/csv]\n",
            "Saving to: ‘abalone.csv’\n",
            "\n",
            "abalone.csv         100%[===================>] 187.46K   872KB/s    in 0.2s    \n",
            "\n",
            "2023-02-09 02:38:26 (872 KB/s) - ‘abalone.csv’ saved [191962/191962]\n",
            "\n"
          ]
        }
      ]
    },
    {
      "cell_type": "markdown",
      "source": [
        "# Read in Abalone data"
      ],
      "metadata": {
        "id": "paHllXrD0paL"
      }
    },
    {
      "cell_type": "code",
      "source": [
        "df = pd.read_csv(\"abalone.csv\")"
      ],
      "metadata": {
        "id": "MDXfwqQrwNBO"
      },
      "execution_count": 2,
      "outputs": []
    },
    {
      "cell_type": "markdown",
      "source": [
        "# Explore the data\n",
        "\n",
        "In this lab, you're going to drop features and scatter the points after projecting along 2 principle components axes.\n",
        "\n",
        "For example, you may drop columns in `Pandas` by typing \n",
        "\n",
        "\n",
        "1. Prune the data. Drop columns `Sex` and/or `Rings`. \\\n",
        "   ```matrix = df.loc[:, df.columns != \"Sex\"]```\n",
        "\n",
        "1. Calculate the covariance matrix. You can calculate the covariance matrix via: \\\n",
        "   $$Cov(X_i, X_j) = \\mathbb{E}[(X_i - \\mu_{x_i})(X_j - \\mu_{x_j})^T]$$\n",
        "\n",
        "1. Calculate the first two components of PCA. You can feel free to use `np.linalg.eig`.\n",
        "\n",
        "1. Verify the principle components. To calculate PCA, feel free to use the PCA function from `scikit.learn`. \\\n",
        "\n",
        "  ```\n",
        "  from sklearn.decomposition import PCA\n",
        "  # Two components of PCA\n",
        "  pca = PCA(2)\n",
        "\n",
        "  # Fit on data\n",
        "  pca.fit(A)\n",
        "\n",
        "  # Access values and vectors\n",
        "  print(pca.components_)\n",
        "  print(pca.explained_variance_)\n",
        "\n",
        "  # transform data\n",
        "  B = pca.transform(A)\n",
        "  print(B)\n",
        "  ```\n",
        "\n",
        "1. Scatter the data to view it in two dimensions"
      ],
      "metadata": {
        "id": "XRByH8x90udO"
      }
    },
    {
      "cell_type": "code",
      "source": [
        "matrix = df.loc[:, df.columns != \"Sex\"]"
      ],
      "metadata": {
        "id": "GRi456zu2QCr"
      },
      "execution_count": 3,
      "outputs": []
    },
    {
      "cell_type": "code",
      "source": [
        "# Calculate the covariance matrix.\n",
        "import numpy as np\n",
        "cov_matrix = np.cov(matrix)\n",
        "print(cov_matrix)\n"
      ],
      "metadata": {
        "colab": {
          "base_uri": "https://localhost:8080/"
        },
        "id": "KPKDV-V4Cufe",
        "outputId": "5b8f89ce-9ffc-47bd-e2a7-782a5096f96b"
      },
      "execution_count": 5,
      "outputs": [
        {
          "output_type": "stream",
          "name": "stdout",
          "text": [
            "[[27.13947246 12.59998264 15.9761583  ... 15.66964846 17.54619298\n",
            "  20.78166602]\n",
            " [12.59998264  5.85272446  7.41823462 ...  7.27097763  8.14311019\n",
            "   9.63632156]\n",
            " [15.9761583   7.41823462  9.41487943 ...  9.24377396 10.34661662\n",
            "  12.26755187]\n",
            " ...\n",
            " [15.66964846  7.27097763  9.24377396 ...  9.09881148 10.17645896\n",
            "  12.09970869]\n",
            " [17.54619298  8.14311019 10.34661662 ... 10.17645896 11.38519678\n",
            "  13.52534747]\n",
            " [20.78166602  9.63632156 12.26755187 ... 12.09970869 13.52534747\n",
            "  16.11968835]]\n"
          ]
        }
      ]
    },
    {
      "cell_type": "code",
      "source": [
        "# Calculate the first two components of PCA. \n",
        "from sklearn.decomposition import PCA\n",
        "pca = PCA(n_components=2).fit(matrix)\n",
        "print(pca.components_)"
      ],
      "metadata": {
        "colab": {
          "base_uri": "https://localhost:8080/"
        },
        "id": "j4A6qO5RDm5H",
        "outputId": "d207ac1e-5601-4c62-c6e9-e23357b7ff61"
      },
      "execution_count": 6,
      "outputs": [
        {
          "output_type": "stream",
          "name": "stdout",
          "text": [
            "[[ 0.02105132  0.01794012  0.0073163   0.08368049  0.02973466  0.01745992\n",
            "   0.02743115  0.99510682]\n",
            " [ 0.18305275  0.14880419  0.05245956  0.83446131  0.3999516   0.18325279\n",
            "   0.20527245 -0.0979371 ]]\n"
          ]
        }
      ]
    },
    {
      "cell_type": "code",
      "source": [
        "# Scatter the data to view it in two dimensions\n",
        "from sklearn.decomposition import PCA\n",
        "# Two components of PCA\n",
        "pca = PCA(2)\n",
        "\n",
        "# Fit on data\n",
        "pca.fit(matrix)\n",
        "\n",
        "# Access values and vectors\n",
        "print(pca.components_)\n",
        "print(pca.explained_variance_)\n",
        "\n",
        "# transform data\n",
        "B = pca.transform(matrix)\n",
        "print(B)"
      ],
      "metadata": {
        "colab": {
          "base_uri": "https://localhost:8080/"
        },
        "id": "_EqgjPyGCnus",
        "outputId": "40eae3f7-9a84-4d19-e08e-271970eb4756"
      },
      "execution_count": 7,
      "outputs": [
        {
          "output_type": "stream",
          "name": "stdout",
          "text": [
            "[[ 0.02105132  0.01794012  0.0073163   0.08368049  0.02973466  0.01745992\n",
            "   0.02743115  0.99510682]\n",
            " [ 0.18305275  0.14880419  0.05245956  0.83446131  0.3999516   0.18325279\n",
            "   0.20527245 -0.0979371 ]]\n",
            "[10.49543138  0.23926882]\n",
            "[[ 5.00480331 -0.86692655]\n",
            " [-2.99106199 -0.43457164]\n",
            " [-0.94603495 -0.08673867]\n",
            " ...\n",
            " [-0.88806992  0.5087862 ]\n",
            " [ 0.0998919   0.34089986]\n",
            " [ 2.18474351  1.11378693]]\n"
          ]
        }
      ]
    }
  ]
}